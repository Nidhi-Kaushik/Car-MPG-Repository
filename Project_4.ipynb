{
  "nbformat": 4,
  "nbformat_minor": 0,
  "metadata": {
    "colab": {
      "provenance": []
    },
    "kernelspec": {
      "name": "python3",
      "display_name": "Python 3"
    },
    "language_info": {
      "name": "python"
    }
  },
  "cells": [
    {
      "cell_type": "markdown",
      "source": [
        "#Step_1 : Importing libraries and dataset"
      ],
      "metadata": {
        "id": "jGv_kfocSb0I"
      }
    },
    {
      "cell_type": "code",
      "source": [
        "import numpy as np\n",
        "import pandas as pd"
      ],
      "metadata": {
        "id": "M2bYvGNOBlcX"
      },
      "execution_count": 1,
      "outputs": []
    },
    {
      "cell_type": "code",
      "source": [
        "path = r\"/content/auto-mpg.csv\"\n",
        "\n",
        "auto_mpg = pd.read_csv(path)"
      ],
      "metadata": {
        "id": "BdMnnPc69zwn"
      },
      "execution_count": 2,
      "outputs": []
    },
    {
      "cell_type": "code",
      "source": [
        "auto_mpg"
      ],
      "metadata": {
        "colab": {
          "base_uri": "https://localhost:8080/",
          "height": 423
        },
        "id": "iK3ixqbyDBD4",
        "outputId": "4f645a0c-1e18-45cf-877e-58cf6d838523"
      },
      "execution_count": 3,
      "outputs": [
        {
          "output_type": "execute_result",
          "data": {
            "text/plain": [
              "      mpg  cylinders  displacement horsepower  weight  acceleration  \\\n",
              "0    18.0          8         307.0        130    3504          12.0   \n",
              "1    15.0          8         350.0        165    3693          11.5   \n",
              "2    18.0          8         318.0        150    3436          11.0   \n",
              "3    16.0          8         304.0        150    3433          12.0   \n",
              "4    17.0          8         302.0        140    3449          10.5   \n",
              "..    ...        ...           ...        ...     ...           ...   \n",
              "393  27.0          4         140.0         86    2790          15.6   \n",
              "394  44.0          4          97.0         52    2130          24.6   \n",
              "395  32.0          4         135.0         84    2295          11.6   \n",
              "396  28.0          4         120.0         79    2625          18.6   \n",
              "397  31.0          4         119.0         82    2720          19.4   \n",
              "\n",
              "     model year  origin                   car name  \n",
              "0            70       1  chevrolet chevelle malibu  \n",
              "1            70       1          buick skylark 320  \n",
              "2            70       1         plymouth satellite  \n",
              "3            70       1              amc rebel sst  \n",
              "4            70       1                ford torino  \n",
              "..          ...     ...                        ...  \n",
              "393          82       1            ford mustang gl  \n",
              "394          82       2                  vw pickup  \n",
              "395          82       1              dodge rampage  \n",
              "396          82       1                ford ranger  \n",
              "397          82       1                 chevy s-10  \n",
              "\n",
              "[398 rows x 9 columns]"
            ],
            "text/html": [
              "\n",
              "  <div id=\"df-17d6cf53-43b8-45f3-bbb9-362da6c5c92a\">\n",
              "    <div class=\"colab-df-container\">\n",
              "      <div>\n",
              "<style scoped>\n",
              "    .dataframe tbody tr th:only-of-type {\n",
              "        vertical-align: middle;\n",
              "    }\n",
              "\n",
              "    .dataframe tbody tr th {\n",
              "        vertical-align: top;\n",
              "    }\n",
              "\n",
              "    .dataframe thead th {\n",
              "        text-align: right;\n",
              "    }\n",
              "</style>\n",
              "<table border=\"1\" class=\"dataframe\">\n",
              "  <thead>\n",
              "    <tr style=\"text-align: right;\">\n",
              "      <th></th>\n",
              "      <th>mpg</th>\n",
              "      <th>cylinders</th>\n",
              "      <th>displacement</th>\n",
              "      <th>horsepower</th>\n",
              "      <th>weight</th>\n",
              "      <th>acceleration</th>\n",
              "      <th>model year</th>\n",
              "      <th>origin</th>\n",
              "      <th>car name</th>\n",
              "    </tr>\n",
              "  </thead>\n",
              "  <tbody>\n",
              "    <tr>\n",
              "      <th>0</th>\n",
              "      <td>18.0</td>\n",
              "      <td>8</td>\n",
              "      <td>307.0</td>\n",
              "      <td>130</td>\n",
              "      <td>3504</td>\n",
              "      <td>12.0</td>\n",
              "      <td>70</td>\n",
              "      <td>1</td>\n",
              "      <td>chevrolet chevelle malibu</td>\n",
              "    </tr>\n",
              "    <tr>\n",
              "      <th>1</th>\n",
              "      <td>15.0</td>\n",
              "      <td>8</td>\n",
              "      <td>350.0</td>\n",
              "      <td>165</td>\n",
              "      <td>3693</td>\n",
              "      <td>11.5</td>\n",
              "      <td>70</td>\n",
              "      <td>1</td>\n",
              "      <td>buick skylark 320</td>\n",
              "    </tr>\n",
              "    <tr>\n",
              "      <th>2</th>\n",
              "      <td>18.0</td>\n",
              "      <td>8</td>\n",
              "      <td>318.0</td>\n",
              "      <td>150</td>\n",
              "      <td>3436</td>\n",
              "      <td>11.0</td>\n",
              "      <td>70</td>\n",
              "      <td>1</td>\n",
              "      <td>plymouth satellite</td>\n",
              "    </tr>\n",
              "    <tr>\n",
              "      <th>3</th>\n",
              "      <td>16.0</td>\n",
              "      <td>8</td>\n",
              "      <td>304.0</td>\n",
              "      <td>150</td>\n",
              "      <td>3433</td>\n",
              "      <td>12.0</td>\n",
              "      <td>70</td>\n",
              "      <td>1</td>\n",
              "      <td>amc rebel sst</td>\n",
              "    </tr>\n",
              "    <tr>\n",
              "      <th>4</th>\n",
              "      <td>17.0</td>\n",
              "      <td>8</td>\n",
              "      <td>302.0</td>\n",
              "      <td>140</td>\n",
              "      <td>3449</td>\n",
              "      <td>10.5</td>\n",
              "      <td>70</td>\n",
              "      <td>1</td>\n",
              "      <td>ford torino</td>\n",
              "    </tr>\n",
              "    <tr>\n",
              "      <th>...</th>\n",
              "      <td>...</td>\n",
              "      <td>...</td>\n",
              "      <td>...</td>\n",
              "      <td>...</td>\n",
              "      <td>...</td>\n",
              "      <td>...</td>\n",
              "      <td>...</td>\n",
              "      <td>...</td>\n",
              "      <td>...</td>\n",
              "    </tr>\n",
              "    <tr>\n",
              "      <th>393</th>\n",
              "      <td>27.0</td>\n",
              "      <td>4</td>\n",
              "      <td>140.0</td>\n",
              "      <td>86</td>\n",
              "      <td>2790</td>\n",
              "      <td>15.6</td>\n",
              "      <td>82</td>\n",
              "      <td>1</td>\n",
              "      <td>ford mustang gl</td>\n",
              "    </tr>\n",
              "    <tr>\n",
              "      <th>394</th>\n",
              "      <td>44.0</td>\n",
              "      <td>4</td>\n",
              "      <td>97.0</td>\n",
              "      <td>52</td>\n",
              "      <td>2130</td>\n",
              "      <td>24.6</td>\n",
              "      <td>82</td>\n",
              "      <td>2</td>\n",
              "      <td>vw pickup</td>\n",
              "    </tr>\n",
              "    <tr>\n",
              "      <th>395</th>\n",
              "      <td>32.0</td>\n",
              "      <td>4</td>\n",
              "      <td>135.0</td>\n",
              "      <td>84</td>\n",
              "      <td>2295</td>\n",
              "      <td>11.6</td>\n",
              "      <td>82</td>\n",
              "      <td>1</td>\n",
              "      <td>dodge rampage</td>\n",
              "    </tr>\n",
              "    <tr>\n",
              "      <th>396</th>\n",
              "      <td>28.0</td>\n",
              "      <td>4</td>\n",
              "      <td>120.0</td>\n",
              "      <td>79</td>\n",
              "      <td>2625</td>\n",
              "      <td>18.6</td>\n",
              "      <td>82</td>\n",
              "      <td>1</td>\n",
              "      <td>ford ranger</td>\n",
              "    </tr>\n",
              "    <tr>\n",
              "      <th>397</th>\n",
              "      <td>31.0</td>\n",
              "      <td>4</td>\n",
              "      <td>119.0</td>\n",
              "      <td>82</td>\n",
              "      <td>2720</td>\n",
              "      <td>19.4</td>\n",
              "      <td>82</td>\n",
              "      <td>1</td>\n",
              "      <td>chevy s-10</td>\n",
              "    </tr>\n",
              "  </tbody>\n",
              "</table>\n",
              "<p>398 rows × 9 columns</p>\n",
              "</div>\n",
              "      <button class=\"colab-df-convert\" onclick=\"convertToInteractive('df-17d6cf53-43b8-45f3-bbb9-362da6c5c92a')\"\n",
              "              title=\"Convert this dataframe to an interactive table.\"\n",
              "              style=\"display:none;\">\n",
              "        \n",
              "  <svg xmlns=\"http://www.w3.org/2000/svg\" height=\"24px\"viewBox=\"0 0 24 24\"\n",
              "       width=\"24px\">\n",
              "    <path d=\"M0 0h24v24H0V0z\" fill=\"none\"/>\n",
              "    <path d=\"M18.56 5.44l.94 2.06.94-2.06 2.06-.94-2.06-.94-.94-2.06-.94 2.06-2.06.94zm-11 1L8.5 8.5l.94-2.06 2.06-.94-2.06-.94L8.5 2.5l-.94 2.06-2.06.94zm10 10l.94 2.06.94-2.06 2.06-.94-2.06-.94-.94-2.06-.94 2.06-2.06.94z\"/><path d=\"M17.41 7.96l-1.37-1.37c-.4-.4-.92-.59-1.43-.59-.52 0-1.04.2-1.43.59L10.3 9.45l-7.72 7.72c-.78.78-.78 2.05 0 2.83L4 21.41c.39.39.9.59 1.41.59.51 0 1.02-.2 1.41-.59l7.78-7.78 2.81-2.81c.8-.78.8-2.07 0-2.86zM5.41 20L4 18.59l7.72-7.72 1.47 1.35L5.41 20z\"/>\n",
              "  </svg>\n",
              "      </button>\n",
              "      \n",
              "  <style>\n",
              "    .colab-df-container {\n",
              "      display:flex;\n",
              "      flex-wrap:wrap;\n",
              "      gap: 12px;\n",
              "    }\n",
              "\n",
              "    .colab-df-convert {\n",
              "      background-color: #E8F0FE;\n",
              "      border: none;\n",
              "      border-radius: 50%;\n",
              "      cursor: pointer;\n",
              "      display: none;\n",
              "      fill: #1967D2;\n",
              "      height: 32px;\n",
              "      padding: 0 0 0 0;\n",
              "      width: 32px;\n",
              "    }\n",
              "\n",
              "    .colab-df-convert:hover {\n",
              "      background-color: #E2EBFA;\n",
              "      box-shadow: 0px 1px 2px rgba(60, 64, 67, 0.3), 0px 1px 3px 1px rgba(60, 64, 67, 0.15);\n",
              "      fill: #174EA6;\n",
              "    }\n",
              "\n",
              "    [theme=dark] .colab-df-convert {\n",
              "      background-color: #3B4455;\n",
              "      fill: #D2E3FC;\n",
              "    }\n",
              "\n",
              "    [theme=dark] .colab-df-convert:hover {\n",
              "      background-color: #434B5C;\n",
              "      box-shadow: 0px 1px 3px 1px rgba(0, 0, 0, 0.15);\n",
              "      filter: drop-shadow(0px 1px 2px rgba(0, 0, 0, 0.3));\n",
              "      fill: #FFFFFF;\n",
              "    }\n",
              "  </style>\n",
              "\n",
              "      <script>\n",
              "        const buttonEl =\n",
              "          document.querySelector('#df-17d6cf53-43b8-45f3-bbb9-362da6c5c92a button.colab-df-convert');\n",
              "        buttonEl.style.display =\n",
              "          google.colab.kernel.accessAllowed ? 'block' : 'none';\n",
              "\n",
              "        async function convertToInteractive(key) {\n",
              "          const element = document.querySelector('#df-17d6cf53-43b8-45f3-bbb9-362da6c5c92a');\n",
              "          const dataTable =\n",
              "            await google.colab.kernel.invokeFunction('convertToInteractive',\n",
              "                                                     [key], {});\n",
              "          if (!dataTable) return;\n",
              "\n",
              "          const docLinkHtml = 'Like what you see? Visit the ' +\n",
              "            '<a target=\"_blank\" href=https://colab.research.google.com/notebooks/data_table.ipynb>data table notebook</a>'\n",
              "            + ' to learn more about interactive tables.';\n",
              "          element.innerHTML = '';\n",
              "          dataTable['output_type'] = 'display_data';\n",
              "          await google.colab.output.renderOutput(dataTable, element);\n",
              "          const docLink = document.createElement('div');\n",
              "          docLink.innerHTML = docLinkHtml;\n",
              "          element.appendChild(docLink);\n",
              "        }\n",
              "      </script>\n",
              "    </div>\n",
              "  </div>\n",
              "  "
            ]
          },
          "metadata": {},
          "execution_count": 3
        }
      ]
    },
    {
      "cell_type": "code",
      "source": [
        "auto_mpg.describe()"
      ],
      "metadata": {
        "colab": {
          "base_uri": "https://localhost:8080/",
          "height": 300
        },
        "id": "YOwKqDxcDCeQ",
        "outputId": "d6e2bf33-a788-4a42-c06c-4f3c30000273"
      },
      "execution_count": 4,
      "outputs": [
        {
          "output_type": "execute_result",
          "data": {
            "text/plain": [
              "              mpg   cylinders  displacement       weight  acceleration  \\\n",
              "count  398.000000  398.000000    398.000000   398.000000    398.000000   \n",
              "mean    23.514573    5.454774    193.425879  2970.424623     15.568090   \n",
              "std      7.815984    1.701004    104.269838   846.841774      2.757689   \n",
              "min      9.000000    3.000000     68.000000  1613.000000      8.000000   \n",
              "25%     17.500000    4.000000    104.250000  2223.750000     13.825000   \n",
              "50%     23.000000    4.000000    148.500000  2803.500000     15.500000   \n",
              "75%     29.000000    8.000000    262.000000  3608.000000     17.175000   \n",
              "max     46.600000    8.000000    455.000000  5140.000000     24.800000   \n",
              "\n",
              "       model year      origin  \n",
              "count  398.000000  398.000000  \n",
              "mean    76.010050    1.572864  \n",
              "std      3.697627    0.802055  \n",
              "min     70.000000    1.000000  \n",
              "25%     73.000000    1.000000  \n",
              "50%     76.000000    1.000000  \n",
              "75%     79.000000    2.000000  \n",
              "max     82.000000    3.000000  "
            ],
            "text/html": [
              "\n",
              "  <div id=\"df-004fd9d5-fd99-4174-9f60-95c638abb84b\">\n",
              "    <div class=\"colab-df-container\">\n",
              "      <div>\n",
              "<style scoped>\n",
              "    .dataframe tbody tr th:only-of-type {\n",
              "        vertical-align: middle;\n",
              "    }\n",
              "\n",
              "    .dataframe tbody tr th {\n",
              "        vertical-align: top;\n",
              "    }\n",
              "\n",
              "    .dataframe thead th {\n",
              "        text-align: right;\n",
              "    }\n",
              "</style>\n",
              "<table border=\"1\" class=\"dataframe\">\n",
              "  <thead>\n",
              "    <tr style=\"text-align: right;\">\n",
              "      <th></th>\n",
              "      <th>mpg</th>\n",
              "      <th>cylinders</th>\n",
              "      <th>displacement</th>\n",
              "      <th>weight</th>\n",
              "      <th>acceleration</th>\n",
              "      <th>model year</th>\n",
              "      <th>origin</th>\n",
              "    </tr>\n",
              "  </thead>\n",
              "  <tbody>\n",
              "    <tr>\n",
              "      <th>count</th>\n",
              "      <td>398.000000</td>\n",
              "      <td>398.000000</td>\n",
              "      <td>398.000000</td>\n",
              "      <td>398.000000</td>\n",
              "      <td>398.000000</td>\n",
              "      <td>398.000000</td>\n",
              "      <td>398.000000</td>\n",
              "    </tr>\n",
              "    <tr>\n",
              "      <th>mean</th>\n",
              "      <td>23.514573</td>\n",
              "      <td>5.454774</td>\n",
              "      <td>193.425879</td>\n",
              "      <td>2970.424623</td>\n",
              "      <td>15.568090</td>\n",
              "      <td>76.010050</td>\n",
              "      <td>1.572864</td>\n",
              "    </tr>\n",
              "    <tr>\n",
              "      <th>std</th>\n",
              "      <td>7.815984</td>\n",
              "      <td>1.701004</td>\n",
              "      <td>104.269838</td>\n",
              "      <td>846.841774</td>\n",
              "      <td>2.757689</td>\n",
              "      <td>3.697627</td>\n",
              "      <td>0.802055</td>\n",
              "    </tr>\n",
              "    <tr>\n",
              "      <th>min</th>\n",
              "      <td>9.000000</td>\n",
              "      <td>3.000000</td>\n",
              "      <td>68.000000</td>\n",
              "      <td>1613.000000</td>\n",
              "      <td>8.000000</td>\n",
              "      <td>70.000000</td>\n",
              "      <td>1.000000</td>\n",
              "    </tr>\n",
              "    <tr>\n",
              "      <th>25%</th>\n",
              "      <td>17.500000</td>\n",
              "      <td>4.000000</td>\n",
              "      <td>104.250000</td>\n",
              "      <td>2223.750000</td>\n",
              "      <td>13.825000</td>\n",
              "      <td>73.000000</td>\n",
              "      <td>1.000000</td>\n",
              "    </tr>\n",
              "    <tr>\n",
              "      <th>50%</th>\n",
              "      <td>23.000000</td>\n",
              "      <td>4.000000</td>\n",
              "      <td>148.500000</td>\n",
              "      <td>2803.500000</td>\n",
              "      <td>15.500000</td>\n",
              "      <td>76.000000</td>\n",
              "      <td>1.000000</td>\n",
              "    </tr>\n",
              "    <tr>\n",
              "      <th>75%</th>\n",
              "      <td>29.000000</td>\n",
              "      <td>8.000000</td>\n",
              "      <td>262.000000</td>\n",
              "      <td>3608.000000</td>\n",
              "      <td>17.175000</td>\n",
              "      <td>79.000000</td>\n",
              "      <td>2.000000</td>\n",
              "    </tr>\n",
              "    <tr>\n",
              "      <th>max</th>\n",
              "      <td>46.600000</td>\n",
              "      <td>8.000000</td>\n",
              "      <td>455.000000</td>\n",
              "      <td>5140.000000</td>\n",
              "      <td>24.800000</td>\n",
              "      <td>82.000000</td>\n",
              "      <td>3.000000</td>\n",
              "    </tr>\n",
              "  </tbody>\n",
              "</table>\n",
              "</div>\n",
              "      <button class=\"colab-df-convert\" onclick=\"convertToInteractive('df-004fd9d5-fd99-4174-9f60-95c638abb84b')\"\n",
              "              title=\"Convert this dataframe to an interactive table.\"\n",
              "              style=\"display:none;\">\n",
              "        \n",
              "  <svg xmlns=\"http://www.w3.org/2000/svg\" height=\"24px\"viewBox=\"0 0 24 24\"\n",
              "       width=\"24px\">\n",
              "    <path d=\"M0 0h24v24H0V0z\" fill=\"none\"/>\n",
              "    <path d=\"M18.56 5.44l.94 2.06.94-2.06 2.06-.94-2.06-.94-.94-2.06-.94 2.06-2.06.94zm-11 1L8.5 8.5l.94-2.06 2.06-.94-2.06-.94L8.5 2.5l-.94 2.06-2.06.94zm10 10l.94 2.06.94-2.06 2.06-.94-2.06-.94-.94-2.06-.94 2.06-2.06.94z\"/><path d=\"M17.41 7.96l-1.37-1.37c-.4-.4-.92-.59-1.43-.59-.52 0-1.04.2-1.43.59L10.3 9.45l-7.72 7.72c-.78.78-.78 2.05 0 2.83L4 21.41c.39.39.9.59 1.41.59.51 0 1.02-.2 1.41-.59l7.78-7.78 2.81-2.81c.8-.78.8-2.07 0-2.86zM5.41 20L4 18.59l7.72-7.72 1.47 1.35L5.41 20z\"/>\n",
              "  </svg>\n",
              "      </button>\n",
              "      \n",
              "  <style>\n",
              "    .colab-df-container {\n",
              "      display:flex;\n",
              "      flex-wrap:wrap;\n",
              "      gap: 12px;\n",
              "    }\n",
              "\n",
              "    .colab-df-convert {\n",
              "      background-color: #E8F0FE;\n",
              "      border: none;\n",
              "      border-radius: 50%;\n",
              "      cursor: pointer;\n",
              "      display: none;\n",
              "      fill: #1967D2;\n",
              "      height: 32px;\n",
              "      padding: 0 0 0 0;\n",
              "      width: 32px;\n",
              "    }\n",
              "\n",
              "    .colab-df-convert:hover {\n",
              "      background-color: #E2EBFA;\n",
              "      box-shadow: 0px 1px 2px rgba(60, 64, 67, 0.3), 0px 1px 3px 1px rgba(60, 64, 67, 0.15);\n",
              "      fill: #174EA6;\n",
              "    }\n",
              "\n",
              "    [theme=dark] .colab-df-convert {\n",
              "      background-color: #3B4455;\n",
              "      fill: #D2E3FC;\n",
              "    }\n",
              "\n",
              "    [theme=dark] .colab-df-convert:hover {\n",
              "      background-color: #434B5C;\n",
              "      box-shadow: 0px 1px 3px 1px rgba(0, 0, 0, 0.15);\n",
              "      filter: drop-shadow(0px 1px 2px rgba(0, 0, 0, 0.3));\n",
              "      fill: #FFFFFF;\n",
              "    }\n",
              "  </style>\n",
              "\n",
              "      <script>\n",
              "        const buttonEl =\n",
              "          document.querySelector('#df-004fd9d5-fd99-4174-9f60-95c638abb84b button.colab-df-convert');\n",
              "        buttonEl.style.display =\n",
              "          google.colab.kernel.accessAllowed ? 'block' : 'none';\n",
              "\n",
              "        async function convertToInteractive(key) {\n",
              "          const element = document.querySelector('#df-004fd9d5-fd99-4174-9f60-95c638abb84b');\n",
              "          const dataTable =\n",
              "            await google.colab.kernel.invokeFunction('convertToInteractive',\n",
              "                                                     [key], {});\n",
              "          if (!dataTable) return;\n",
              "\n",
              "          const docLinkHtml = 'Like what you see? Visit the ' +\n",
              "            '<a target=\"_blank\" href=https://colab.research.google.com/notebooks/data_table.ipynb>data table notebook</a>'\n",
              "            + ' to learn more about interactive tables.';\n",
              "          element.innerHTML = '';\n",
              "          dataTable['output_type'] = 'display_data';\n",
              "          await google.colab.output.renderOutput(dataTable, element);\n",
              "          const docLink = document.createElement('div');\n",
              "          docLink.innerHTML = docLinkHtml;\n",
              "          element.appendChild(docLink);\n",
              "        }\n",
              "      </script>\n",
              "    </div>\n",
              "  </div>\n",
              "  "
            ]
          },
          "metadata": {},
          "execution_count": 4
        }
      ]
    },
    {
      "cell_type": "code",
      "source": [
        "auto_mpg.shape"
      ],
      "metadata": {
        "colab": {
          "base_uri": "https://localhost:8080/"
        },
        "id": "3D6Hc6gtQS5G",
        "outputId": "3f66e9c7-0f2d-4388-b452-165ec7345251"
      },
      "execution_count": 5,
      "outputs": [
        {
          "output_type": "execute_result",
          "data": {
            "text/plain": [
              "(398, 9)"
            ]
          },
          "metadata": {},
          "execution_count": 5
        }
      ]
    },
    {
      "cell_type": "markdown",
      "source": [
        "#Step_2 : Preprocessing"
      ],
      "metadata": {
        "id": "L5S_w61LSWPw"
      }
    },
    {
      "cell_type": "code",
      "source": [
        "auto_mpg = auto_mpg.replace('?', np.nan)"
      ],
      "metadata": {
        "id": "eBJUgvdUHoqn"
      },
      "execution_count": 6,
      "outputs": []
    },
    {
      "cell_type": "code",
      "source": [
        "auto_mpg.isnull().any()"
      ],
      "metadata": {
        "colab": {
          "base_uri": "https://localhost:8080/"
        },
        "id": "X2cQHI17QLIt",
        "outputId": "51a3f5db-d217-46b1-abae-7557e1b9d41a"
      },
      "execution_count": 7,
      "outputs": [
        {
          "output_type": "execute_result",
          "data": {
            "text/plain": [
              "mpg             False\n",
              "cylinders       False\n",
              "displacement    False\n",
              "horsepower       True\n",
              "weight          False\n",
              "acceleration    False\n",
              "model year      False\n",
              "origin          False\n",
              "car name        False\n",
              "dtype: bool"
            ]
          },
          "metadata": {},
          "execution_count": 7
        }
      ]
    },
    {
      "cell_type": "code",
      "source": [
        "auto_mpg = auto_mpg.dropna()#removing nan values present in dataset"
      ],
      "metadata": {
        "id": "5Q4LTlpBJHUf"
      },
      "execution_count": 8,
      "outputs": []
    },
    {
      "cell_type": "code",
      "source": [
        "auto_mpg.isnull().any()"
      ],
      "metadata": {
        "colab": {
          "base_uri": "https://localhost:8080/"
        },
        "id": "7a1ktFdpNZMD",
        "outputId": "6ba32344-82d8-4fac-9b13-fdb79421bd66"
      },
      "execution_count": 9,
      "outputs": [
        {
          "output_type": "execute_result",
          "data": {
            "text/plain": [
              "mpg             False\n",
              "cylinders       False\n",
              "displacement    False\n",
              "horsepower      False\n",
              "weight          False\n",
              "acceleration    False\n",
              "model year      False\n",
              "origin          False\n",
              "car name        False\n",
              "dtype: bool"
            ]
          },
          "metadata": {},
          "execution_count": 9
        }
      ]
    },
    {
      "cell_type": "code",
      "source": [
        "auto_mpg.shape#earlier data has 398 rows with 6 null values...then we dropped them"
      ],
      "metadata": {
        "colab": {
          "base_uri": "https://localhost:8080/"
        },
        "id": "Out9Ujc-QC10",
        "outputId": "d0239e39-f6af-4453-8769-e24e7085e841"
      },
      "execution_count": 10,
      "outputs": [
        {
          "output_type": "execute_result",
          "data": {
            "text/plain": [
              "(392, 9)"
            ]
          },
          "metadata": {},
          "execution_count": 10
        }
      ]
    },
    {
      "cell_type": "code",
      "source": [
        "#Let's see information about attributes provided\n",
        "auto_mpg.info()"
      ],
      "metadata": {
        "colab": {
          "base_uri": "https://localhost:8080/"
        },
        "id": "dSJs7a7PDozA",
        "outputId": "545cf39d-d764-4eb7-9398-7ea6f0f0947a"
      },
      "execution_count": 11,
      "outputs": [
        {
          "output_type": "stream",
          "name": "stdout",
          "text": [
            "<class 'pandas.core.frame.DataFrame'>\n",
            "Int64Index: 392 entries, 0 to 397\n",
            "Data columns (total 9 columns):\n",
            " #   Column        Non-Null Count  Dtype  \n",
            "---  ------        --------------  -----  \n",
            " 0   mpg           392 non-null    float64\n",
            " 1   cylinders     392 non-null    int64  \n",
            " 2   displacement  392 non-null    float64\n",
            " 3   horsepower    392 non-null    object \n",
            " 4   weight        392 non-null    int64  \n",
            " 5   acceleration  392 non-null    float64\n",
            " 6   model year    392 non-null    int64  \n",
            " 7   origin        392 non-null    int64  \n",
            " 8   car name      392 non-null    object \n",
            "dtypes: float64(3), int64(4), object(2)\n",
            "memory usage: 30.6+ KB\n"
          ]
        }
      ]
    },
    {
      "cell_type": "markdown",
      "source": [
        "#Things need to be corrected:\n",
        "(1) horsepower should be numeric \n",
        "\n",
        "(2) origin should be categorical"
      ],
      "metadata": {
        "id": "cnznW63lHHwE"
      }
    },
    {
      "cell_type": "code",
      "source": [
        "auto_mpg[\"horsepower\"] = pd.to_numeric(auto_mpg[\"horsepower\"], errors = \"coerce\")\n",
        "auto_mpg[\"origin\"] = auto_mpg[\"origin\"].astype(\"object\")"
      ],
      "metadata": {
        "id": "nqEgjcgxFXXr",
        "colab": {
          "base_uri": "https://localhost:8080/"
        },
        "outputId": "854ab938-3a1f-46ab-c652-25cc41544ae8"
      },
      "execution_count": 12,
      "outputs": [
        {
          "output_type": "stream",
          "name": "stderr",
          "text": [
            "<ipython-input-12-f43dedbee597>:1: SettingWithCopyWarning: \n",
            "A value is trying to be set on a copy of a slice from a DataFrame.\n",
            "Try using .loc[row_indexer,col_indexer] = value instead\n",
            "\n",
            "See the caveats in the documentation: https://pandas.pydata.org/pandas-docs/stable/user_guide/indexing.html#returning-a-view-versus-a-copy\n",
            "  auto_mpg[\"horsepower\"] = pd.to_numeric(auto_mpg[\"horsepower\"], errors = \"coerce\")\n",
            "<ipython-input-12-f43dedbee597>:2: SettingWithCopyWarning: \n",
            "A value is trying to be set on a copy of a slice from a DataFrame.\n",
            "Try using .loc[row_indexer,col_indexer] = value instead\n",
            "\n",
            "See the caveats in the documentation: https://pandas.pydata.org/pandas-docs/stable/user_guide/indexing.html#returning-a-view-versus-a-copy\n",
            "  auto_mpg[\"origin\"] = auto_mpg[\"origin\"].astype(\"object\")\n"
          ]
        }
      ]
    },
    {
      "cell_type": "code",
      "source": [
        "auto_mpg = auto_mpg.rename(columns = {'model year':'model_year', 'car name':'car_name'})"
      ],
      "metadata": {
        "id": "YUaJMlzfMm6r"
      },
      "execution_count": 13,
      "outputs": []
    },
    {
      "cell_type": "code",
      "source": [
        "auto_mpg.info()"
      ],
      "metadata": {
        "colab": {
          "base_uri": "https://localhost:8080/"
        },
        "id": "OuPQGMmeOJrP",
        "outputId": "25983144-8974-47b1-d426-8e52c3c3a735"
      },
      "execution_count": 14,
      "outputs": [
        {
          "output_type": "stream",
          "name": "stdout",
          "text": [
            "<class 'pandas.core.frame.DataFrame'>\n",
            "Int64Index: 392 entries, 0 to 397\n",
            "Data columns (total 9 columns):\n",
            " #   Column        Non-Null Count  Dtype  \n",
            "---  ------        --------------  -----  \n",
            " 0   mpg           392 non-null    float64\n",
            " 1   cylinders     392 non-null    int64  \n",
            " 2   displacement  392 non-null    float64\n",
            " 3   horsepower    392 non-null    int64  \n",
            " 4   weight        392 non-null    int64  \n",
            " 5   acceleration  392 non-null    float64\n",
            " 6   model_year    392 non-null    int64  \n",
            " 7   origin        392 non-null    object \n",
            " 8   car_name      392 non-null    object \n",
            "dtypes: float64(3), int64(4), object(2)\n",
            "memory usage: 30.6+ KB\n"
          ]
        }
      ]
    },
    {
      "cell_type": "code",
      "source": [
        "#Saving preprocessed and cleaned into into new variable named  : auto_mpg_clean\n",
        "\n",
        "auto_mpg.to_csv('Cleaned auto-mpg.csv')"
      ],
      "metadata": {
        "id": "GoHG6n8XSJZJ"
      },
      "execution_count": 15,
      "outputs": []
    },
    {
      "cell_type": "code",
      "source": [
        "import seaborn as sns\n",
        "import matplotlib.pyplot as plt\n",
        "#get correlations of each features in dataset\n",
        "corrmat = auto_mpg.corr()\n",
        "top_corr_features = corrmat.index\n",
        "plt.figure(figsize=(10,10))\n",
        "#plot heat map\n",
        "g=sns.heatmap(auto_mpg[top_corr_features].corr(),annot=True,cmap=\"RdYlGn\")"
      ],
      "metadata": {
        "colab": {
          "base_uri": "https://localhost:8080/",
          "height": 891
        },
        "id": "Igyz_X_4z5mE",
        "outputId": "c3347797-d02a-4ac5-ebae-31507d0f0a6c"
      },
      "execution_count": 18,
      "outputs": [
        {
          "output_type": "stream",
          "name": "stderr",
          "text": [
            "<ipython-input-18-830175509437>:4: FutureWarning: The default value of numeric_only in DataFrame.corr is deprecated. In a future version, it will default to False. Select only valid columns or specify the value of numeric_only to silence this warning.\n",
            "  corrmat = auto_mpg.corr()\n"
          ]
        },
        {
          "output_type": "display_data",
          "data": {
            "text/plain": [
              "<Figure size 1000x1000 with 2 Axes>"
            ],
            "image/png": "[encoded data removed]"
          },
          "metadata": {}
        }
      ]
    },
    {
      "cell_type": "markdown",
      "source": [
        "##Step_2.1 : Spearating X(input variables) and y(target/output variable)"
      ],
      "metadata": {
        "id": "KWH8ifkhS6DN"
      }
    },
    {
      "cell_type": "code",
      "source": [
        "X = auto_mpg.drop(['mpg'], axis=1)\n",
        "y = auto_mpg['mpg']"
      ],
      "metadata": {
        "id": "Q7jIAPehVaOH"
      },
      "execution_count": 19,
      "outputs": []
    },
    {
      "cell_type": "markdown",
      "source": [
        "#Step_3 : Splitting into train and test set"
      ],
      "metadata": {
        "id": "TxsFYysHkj02"
      }
    },
    {
      "cell_type": "code",
      "source": [
        "from sklearn.model_selection import train_test_split\n",
        "Xtrain, Xtest, ytrain, ytest = train_test_split(X, y, test_size=0.2)"
      ],
      "metadata": {
        "id": "s_QtCXo5Xto6"
      },
      "execution_count": 20,
      "outputs": []
    },
    {
      "cell_type": "code",
      "source": [
        "from sklearn import linear_model\n",
        "from sklearn.metrics import r2_score\n",
        "from sklearn.preprocessing import OneHotEncoder\n",
        "from sklearn.compose import make_column_transformer\n",
        "from sklearn.pipeline import make_pipeline"
      ],
      "metadata": {
        "id": "Y_MGHuIalMjb"
      },
      "execution_count": 21,
      "outputs": []
    },
    {
      "cell_type": "markdown",
      "source": [
        "#Step_4 : OHE and creating pipeline/Model Training using LinearRegression\n"
      ],
      "metadata": {
        "id": "d9ldpFLKy9qC"
      }
    },
    {
      "cell_type": "code",
      "source": [
        "ohe = OneHotEncoder()\n",
        "ohe.fit(X[['car_name']])"
      ],
      "metadata": {
        "colab": {
          "base_uri": "https://localhost:8080/",
          "height": 74
        },
        "id": "gWFjUVC_nUf7",
        "outputId": "aede45d6-397a-419d-c568-35f67c6a9c31"
      },
      "execution_count": 22,
      "outputs": [
        {
          "output_type": "execute_result",
          "data": {
            "text/plain": [
              "OneHotEncoder()"
            ],
            "text/html": [
              "<style>#sk-container-id-1 {color: black;background-color: white;}#sk-container-id-1 pre{padding: 0;}#sk-container-id-1 div.sk-toggleable {background-color: white;}#sk-container-id-1 label.sk-toggleable__label {cursor: pointer;display: block;width: 100%;margin-bottom: 0;padding: 0.3em;box-sizing: border-box;text-align: center;}#sk-container-id-1 label.sk-toggleable__label-arrow:before {content: \"▸\";float: left;margin-right: 0.25em;color: #696969;}#sk-container-id-1 label.sk-toggleable__label-arrow:hover:before {color: black;}#sk-container-id-1 div.sk-estimator:hover label.sk-toggleable__label-arrow:before {color: black;}#sk-container-id-1 div.sk-toggleable__content {max-height: 0;max-width: 0;overflow: hidden;text-align: left;background-color: #f0f8ff;}#sk-container-id-1 div.sk-toggleable__content pre {margin: 0.2em;color: black;border-radius: 0.25em;background-color: #f0f8ff;}#sk-container-id-1 input.sk-toggleable__control:checked~div.sk-toggleable__content {max-height: 200px;max-width: 100%;overflow: auto;}#sk-container-id-1 input.sk-toggleable__control:checked~label.sk-toggleable__label-arrow:before {content: \"▾\";}#sk-container-id-1 div.sk-estimator input.sk-toggleable__control:checked~label.sk-toggleable__label {background-color: #d4ebff;}#sk-container-id-1 div.sk-label input.sk-toggleable__control:checked~label.sk-toggleable__label {background-color: #d4ebff;}#sk-container-id-1 input.sk-hidden--visually {border: 0;clip: rect(1px 1px 1px 1px);clip: rect(1px, 1px, 1px, 1px);height: 1px;margin: -1px;overflow: hidden;padding: 0;position: absolute;width: 1px;}#sk-container-id-1 div.sk-estimator {font-family: monospace;background-color: #f0f8ff;border: 1px dotted black;border-radius: 0.25em;box-sizing: border-box;margin-bottom: 0.5em;}#sk-container-id-1 div.sk-estimator:hover {background-color: #d4ebff;}#sk-container-id-1 div.sk-parallel-item::after {content: \"\";width: 100%;border-bottom: 1px solid gray;flex-grow: 1;}#sk-container-id-1 div.sk-label:hover label.sk-toggleable__label {background-color: #d4ebff;}#sk-container-id-1 div.sk-serial::before {content: \"\";position: absolute;border-left: 1px solid gray;box-sizing: border-box;top: 0;bottom: 0;left: 50%;z-index: 0;}#sk-container-id-1 div.sk-serial {display: flex;flex-direction: column;align-items: center;background-color: white;padding-right: 0.2em;padding-left: 0.2em;position: relative;}#sk-container-id-1 div.sk-item {position: relative;z-index: 1;}#sk-container-id-1 div.sk-parallel {display: flex;align-items: stretch;justify-content: center;background-color: white;position: relative;}#sk-container-id-1 div.sk-item::before, #sk-container-id-1 div.sk-parallel-item::before {content: \"\";position: absolute;border-left: 1px solid gray;box-sizing: border-box;top: 0;bottom: 0;left: 50%;z-index: -1;}#sk-container-id-1 div.sk-parallel-item {display: flex;flex-direction: column;z-index: 1;position: relative;background-color: white;}#sk-container-id-1 div.sk-parallel-item:first-child::after {align-self: flex-end;width: 50%;}#sk-container-id-1 div.sk-parallel-item:last-child::after {align-self: flex-start;width: 50%;}#sk-container-id-1 div.sk-parallel-item:only-child::after {width: 0;}#sk-container-id-1 div.sk-dashed-wrapped {border: 1px dashed gray;margin: 0 0.4em 0.5em 0.4em;box-sizing: border-box;padding-bottom: 0.4em;background-color: white;}#sk-container-id-1 div.sk-label label {font-family: monospace;font-weight: bold;display: inline-block;line-height: 1.2em;}#sk-container-id-1 div.sk-label-container {text-align: center;}#sk-container-id-1 div.sk-container {/* jupyter's `normalize.less` sets `[hidden] { display: none; }` but bootstrap.min.css set `[hidden] { display: none !important; }` so we also need the `!important` here to be able to override the default hidden behavior on the sphinx rendered scikit-learn.org. See: https://github.com/scikit-learn/scikit-learn/issues/21755 */display: inline-block !important;position: relative;}#sk-container-id-1 div.sk-text-repr-fallback {display: none;}</style><div id=\"sk-container-id-1\" class=\"sk-top-container\"><div class=\"sk-text-repr-fallback\"><pre>OneHotEncoder()</pre><b>In a Jupyter environment, please rerun this cell to show the HTML representation or trust the notebook. <br />On GitHub, the HTML representation is unable to render, please try loading this page with nbviewer.org.</b></div><div class=\"sk-container\" hidden><div class=\"sk-item\"><div class=\"sk-estimator sk-toggleable\"><input class=\"sk-toggleable__control sk-hidden--visually\" id=\"sk-estimator-id-1\" type=\"checkbox\" checked><label for=\"sk-estimator-id-1\" class=\"sk-toggleable__label sk-toggleable__label-arrow\">OneHotEncoder</label><div class=\"sk-toggleable__content\"><pre>OneHotEncoder()</pre></div></div></div></div></div>"
            ]
          },
          "metadata": {},
          "execution_count": 22
        }
      ]
    },
    {
      "cell_type": "code",
      "source": [
        "ohe.categories_"
      ],
      "metadata": {
        "id": "ufxPdBfdqIRI",
        "colab": {
          "base_uri": "https://localhost:8080/"
        },
        "outputId": "e3aa18e6-6e2d-4414-c66e-b37b5578208e"
      },
      "execution_count": 23,
      "outputs": [
        {
          "output_type": "execute_result",
          "data": {
            "text/plain": [
              "[array(['amc ambassador brougham', 'amc ambassador dpl',\n",
              "        'amc ambassador sst', 'amc concord', 'amc concord d/l',\n",
              "        'amc concord dl 6', 'amc gremlin', 'amc hornet',\n",
              "        'amc hornet sportabout (sw)', 'amc matador', 'amc matador (sw)',\n",
              "        'amc pacer', 'amc pacer d/l', 'amc rebel sst', 'amc spirit dl',\n",
              "        'audi 100 ls', 'audi 100ls', 'audi 4000', 'audi 5000',\n",
              "        'audi 5000s (diesel)', 'audi fox', 'bmw 2002', 'bmw 320i',\n",
              "        'buick century', 'buick century 350', 'buick century limited',\n",
              "        'buick century luxus (sw)', 'buick century special',\n",
              "        'buick electra 225 custom', 'buick estate wagon (sw)',\n",
              "        'buick lesabre custom', 'buick opel isuzu deluxe',\n",
              "        'buick regal sport coupe (turbo)', 'buick skyhawk',\n",
              "        'buick skylark', 'buick skylark 320', 'buick skylark limited',\n",
              "        'cadillac eldorado', 'cadillac seville', 'capri ii',\n",
              "        'chevroelt chevelle malibu', 'chevrolet bel air',\n",
              "        'chevrolet camaro', 'chevrolet caprice classic',\n",
              "        'chevrolet cavalier', 'chevrolet cavalier 2-door',\n",
              "        'chevrolet cavalier wagon', 'chevrolet chevelle concours (sw)',\n",
              "        'chevrolet chevelle malibu', 'chevrolet chevelle malibu classic',\n",
              "        'chevrolet chevette', 'chevrolet citation', 'chevrolet concours',\n",
              "        'chevrolet impala', 'chevrolet malibu',\n",
              "        'chevrolet malibu classic (sw)', 'chevrolet monte carlo',\n",
              "        'chevrolet monte carlo landau', 'chevrolet monte carlo s',\n",
              "        'chevrolet monza 2+2', 'chevrolet nova', 'chevrolet nova custom',\n",
              "        'chevrolet vega', 'chevrolet vega (sw)', 'chevrolet vega 2300',\n",
              "        'chevrolet woody', 'chevy c10', 'chevy c20', 'chevy s-10',\n",
              "        'chrysler cordoba', 'chrysler lebaron medallion',\n",
              "        'chrysler lebaron salon', 'chrysler lebaron town @ country (sw)',\n",
              "        'chrysler new yorker brougham', 'chrysler newport royal',\n",
              "        'datsun 1200', 'datsun 200-sx', 'datsun 200sx', 'datsun 210',\n",
              "        'datsun 210 mpg', 'datsun 280-zx', 'datsun 310', 'datsun 310 gx',\n",
              "        'datsun 510', 'datsun 510 (sw)', 'datsun 510 hatchback',\n",
              "        'datsun 610', 'datsun 710', 'datsun 810', 'datsun 810 maxima',\n",
              "        'datsun b-210', 'datsun b210', 'datsun b210 gx',\n",
              "        'datsun f-10 hatchback', 'datsun pl510', 'dodge aries se',\n",
              "        'dodge aries wagon (sw)', 'dodge aspen', 'dodge aspen 6',\n",
              "        'dodge aspen se', 'dodge challenger se', 'dodge charger 2.2',\n",
              "        'dodge colt', 'dodge colt (sw)', 'dodge colt hardtop',\n",
              "        'dodge colt hatchback custom', 'dodge colt m/m',\n",
              "        'dodge coronet brougham', 'dodge coronet custom',\n",
              "        'dodge coronet custom (sw)', 'dodge d100', 'dodge d200',\n",
              "        'dodge dart custom', 'dodge diplomat', 'dodge magnum xe',\n",
              "        'dodge monaco (sw)', 'dodge monaco brougham', 'dodge omni',\n",
              "        'dodge rampage', 'dodge st. regis', 'fiat 124 sport coupe',\n",
              "        'fiat 124 tc', 'fiat 124b', 'fiat 128', 'fiat 131',\n",
              "        'fiat strada custom', 'fiat x1.9', 'ford country',\n",
              "        'ford country squire (sw)', 'ford escort 2h', 'ford escort 4w',\n",
              "        'ford f108', 'ford f250', 'ford fairmont', 'ford fairmont (auto)',\n",
              "        'ford fairmont (man)', 'ford fairmont 4', 'ford fairmont futura',\n",
              "        'ford fiesta', 'ford futura', 'ford galaxie 500',\n",
              "        'ford gran torino', 'ford gran torino (sw)', 'ford granada',\n",
              "        'ford granada ghia', 'ford granada gl', 'ford granada l',\n",
              "        'ford ltd', 'ford ltd landau', 'ford maverick', 'ford mustang',\n",
              "        'ford mustang gl', 'ford mustang ii', 'ford mustang ii 2+2',\n",
              "        'ford pinto', 'ford pinto (sw)', 'ford pinto runabout',\n",
              "        'ford ranger', 'ford thunderbird', 'ford torino',\n",
              "        'ford torino 500', 'hi 1200d', 'honda accord', 'honda accord cvcc',\n",
              "        'honda accord lx', 'honda civic', 'honda civic (auto)',\n",
              "        'honda civic 1300', 'honda civic 1500 gl', 'honda civic cvcc',\n",
              "        'honda prelude', 'maxda glc deluxe', 'maxda rx3', 'mazda 626',\n",
              "        'mazda glc', 'mazda glc 4', 'mazda glc custom',\n",
              "        'mazda glc custom l', 'mazda glc deluxe', 'mazda rx-4',\n",
              "        'mazda rx-7 gs', 'mazda rx2 coupe', 'mercedes benz 300d',\n",
              "        'mercedes-benz 240d', 'mercedes-benz 280s', 'mercury capri 2000',\n",
              "        'mercury capri v6', 'mercury cougar brougham',\n",
              "        'mercury grand marquis', 'mercury lynx l', 'mercury marquis',\n",
              "        'mercury marquis brougham', 'mercury monarch',\n",
              "        'mercury monarch ghia', 'mercury zephyr', 'mercury zephyr 6',\n",
              "        'nissan stanza xe', 'oldsmobile cutlass ciera (diesel)',\n",
              "        'oldsmobile cutlass ls', 'oldsmobile cutlass salon brougham',\n",
              "        'oldsmobile cutlass supreme', 'oldsmobile delta 88 royale',\n",
              "        'oldsmobile omega', 'oldsmobile omega brougham',\n",
              "        'oldsmobile starfire sx', 'oldsmobile vista cruiser', 'opel 1900',\n",
              "        'opel manta', 'peugeot 304', 'peugeot 504', 'peugeot 504 (sw)',\n",
              "        'peugeot 505s turbo diesel', 'peugeot 604sl', \"plymouth 'cuda 340\",\n",
              "        'plymouth arrow gs', 'plymouth champ', 'plymouth cricket',\n",
              "        'plymouth custom suburb', 'plymouth duster', 'plymouth fury',\n",
              "        'plymouth fury gran sedan', 'plymouth fury iii',\n",
              "        'plymouth grand fury', 'plymouth horizon', 'plymouth horizon 4',\n",
              "        'plymouth horizon miser', 'plymouth horizon tc3',\n",
              "        'plymouth reliant', 'plymouth sapporo', 'plymouth satellite',\n",
              "        'plymouth satellite custom', 'plymouth satellite custom (sw)',\n",
              "        'plymouth satellite sebring', 'plymouth valiant',\n",
              "        'plymouth valiant custom', 'plymouth volare',\n",
              "        'plymouth volare custom', 'plymouth volare premier v8',\n",
              "        'pontiac astro', 'pontiac catalina', 'pontiac catalina brougham',\n",
              "        'pontiac firebird', 'pontiac grand prix', 'pontiac grand prix lj',\n",
              "        'pontiac j2000 se hatchback', 'pontiac lemans v6',\n",
              "        'pontiac phoenix', 'pontiac phoenix lj', 'pontiac safari (sw)',\n",
              "        'pontiac sunbird coupe', 'pontiac ventura sj', 'renault 12 (sw)',\n",
              "        'renault 12tl', 'renault 5 gtl', 'saab 99e', 'saab 99gle',\n",
              "        'saab 99le', 'subaru', 'subaru dl', 'toyota carina',\n",
              "        'toyota celica gt', 'toyota celica gt liftback', 'toyota corolla',\n",
              "        'toyota corolla 1200', 'toyota corolla 1600 (sw)',\n",
              "        'toyota corolla liftback', 'toyota corolla tercel',\n",
              "        'toyota corona', 'toyota corona hardtop', 'toyota corona liftback',\n",
              "        'toyota corona mark ii', 'toyota cressida', 'toyota mark ii',\n",
              "        'toyota starlet', 'toyota tercel', 'toyouta corona mark ii (sw)',\n",
              "        'triumph tr7 coupe', 'vokswagen rabbit',\n",
              "        'volkswagen 1131 deluxe sedan', 'volkswagen 411 (sw)',\n",
              "        'volkswagen dasher', 'volkswagen jetta', 'volkswagen model 111',\n",
              "        'volkswagen rabbit', 'volkswagen rabbit custom',\n",
              "        'volkswagen rabbit custom diesel', 'volkswagen rabbit l',\n",
              "        'volkswagen scirocco', 'volkswagen super beetle',\n",
              "        'volkswagen type 3', 'volvo 144ea', 'volvo 145e (sw)',\n",
              "        'volvo 244dl', 'volvo 245', 'volvo 264gl', 'volvo diesel',\n",
              "        'vw dasher (diesel)', 'vw pickup', 'vw rabbit',\n",
              "        'vw rabbit c (diesel)', 'vw rabbit custom'], dtype=object)]"
            ]
          },
          "metadata": {},
          "execution_count": 23
        }
      ]
    },
    {
      "cell_type": "code",
      "source": [
        "#this column transformer will transform/ohe each value provided by user in car_name variable\n",
        "column_trans = make_column_transformer((OneHotEncoder(categories=ohe.categories_), ['car_name']),\n",
        "                                       remainder='passthrough')"
      ],
      "metadata": {
        "id": "FCqq4Re3n5uF"
      },
      "execution_count": 24,
      "outputs": []
    },
    {
      "cell_type": "code",
      "source": [
        "lr = linear_model.LinearRegression()"
      ],
      "metadata": {
        "id": "62fesR3Oow12"
      },
      "execution_count": 25,
      "outputs": []
    },
    {
      "cell_type": "code",
      "source": [
        "pipe = make_pipeline(column_trans, lr) #whatever values we will be fitting in pipe...they will first be column_transformed(i.e ohe wu=ill be done if value is of string/obj type)and the linear regression model will be applied "
      ],
      "metadata": {
        "id": "mEbd5ATqo3HI"
      },
      "execution_count": 26,
      "outputs": []
    },
    {
      "cell_type": "code",
      "source": [
        "pipe.fit(Xtrain, ytrain)"
      ],
      "metadata": {
        "colab": {
          "base_uri": "https://localhost:8080/",
          "height": 191
        },
        "id": "XJZC80IppdCY",
        "outputId": "b406b148-c3e8-4308-dda3-3b2acdcb1a46"
      },
      "execution_count": 27,
      "outputs": [
        {
          "output_type": "execute_result",
          "data": {
            "text/plain": [
              "Pipeline(steps=[('columntransformer',\n",
              "                 ColumnTransformer(remainder='passthrough',\n",
              "                                   transformers=[('onehotencoder',\n",
              "                                                  OneHotEncoder(categories=[array(['amc ambassador brougham', 'amc ambassador dpl',\n",
              "       'amc ambassador sst', 'amc concord', 'amc concord d/l',\n",
              "       'amc concord dl 6', 'amc gremlin', 'amc hornet',\n",
              "       'amc hornet sportabout (sw)', 'amc matador', 'amc matador (sw)',\n",
              "       'amc pacer', 'amc pace...\n",
              "       'volkswagen rabbit', 'volkswagen rabbit custom',\n",
              "       'volkswagen rabbit custom diesel', 'volkswagen rabbit l',\n",
              "       'volkswagen scirocco', 'volkswagen super beetle',\n",
              "       'volkswagen type 3', 'volvo 144ea', 'volvo 145e (sw)',\n",
              "       'volvo 244dl', 'volvo 245', 'volvo 264gl', 'volvo diesel',\n",
              "       'vw dasher (diesel)', 'vw pickup', 'vw rabbit',\n",
              "       'vw rabbit c (diesel)', 'vw rabbit custom'], dtype=object)]),\n",
              "                                                  ['car_name'])])),\n",
              "                ('linearregression', LinearRegression())])"
            ],
            "text/html": [
              "<style>#sk-container-id-2 {color: black;background-color: white;}#sk-container-id-2 pre{padding: 0;}#sk-container-id-2 div.sk-toggleable {background-color: white;}#sk-container-id-2 label.sk-toggleable__label {cursor: pointer;display: block;width: 100%;margin-bottom: 0;padding: 0.3em;box-sizing: border-box;text-align: center;}#sk-container-id-2 label.sk-toggleable__label-arrow:before {content: \"▸\";float: left;margin-right: 0.25em;color: #696969;}#sk-container-id-2 label.sk-toggleable__label-arrow:hover:before {color: black;}#sk-container-id-2 div.sk-estimator:hover label.sk-toggleable__label-arrow:before {color: black;}#sk-container-id-2 div.sk-toggleable__content {max-height: 0;max-width: 0;overflow: hidden;text-align: left;background-color: #f0f8ff;}#sk-container-id-2 div.sk-toggleable__content pre {margin: 0.2em;color: black;border-radius: 0.25em;background-color: #f0f8ff;}#sk-container-id-2 input.sk-toggleable__control:checked~div.sk-toggleable__content {max-height: 200px;max-width: 100%;overflow: auto;}#sk-container-id-2 input.sk-toggleable__control:checked~label.sk-toggleable__label-arrow:before {content: \"▾\";}#sk-container-id-2 div.sk-estimator input.sk-toggleable__control:checked~label.sk-toggleable__label {background-color: #d4ebff;}#sk-container-id-2 div.sk-label input.sk-toggleable__control:checked~label.sk-toggleable__label {background-color: #d4ebff;}#sk-container-id-2 input.sk-hidden--visually {border: 0;clip: rect(1px 1px 1px 1px);clip: rect(1px, 1px, 1px, 1px);height: 1px;margin: -1px;overflow: hidden;padding: 0;position: absolute;width: 1px;}#sk-container-id-2 div.sk-estimator {font-family: monospace;background-color: #f0f8ff;border: 1px dotted black;border-radius: 0.25em;box-sizing: border-box;margin-bottom: 0.5em;}#sk-container-id-2 div.sk-estimator:hover {background-color: #d4ebff;}#sk-container-id-2 div.sk-parallel-item::after {content: \"\";width: 100%;border-bottom: 1px solid gray;flex-grow: 1;}#sk-container-id-2 div.sk-label:hover label.sk-toggleable__label {background-color: #d4ebff;}#sk-container-id-2 div.sk-serial::before {content: \"\";position: absolute;border-left: 1px solid gray;box-sizing: border-box;top: 0;bottom: 0;left: 50%;z-index: 0;}#sk-container-id-2 div.sk-serial {display: flex;flex-direction: column;align-items: center;background-color: white;padding-right: 0.2em;padding-left: 0.2em;position: relative;}#sk-container-id-2 div.sk-item {position: relative;z-index: 1;}#sk-container-id-2 div.sk-parallel {display: flex;align-items: stretch;justify-content: center;background-color: white;position: relative;}#sk-container-id-2 div.sk-item::before, #sk-container-id-2 div.sk-parallel-item::before {content: \"\";position: absolute;border-left: 1px solid gray;box-sizing: border-box;top: 0;bottom: 0;left: 50%;z-index: -1;}#sk-container-id-2 div.sk-parallel-item {display: flex;flex-direction: column;z-index: 1;position: relative;background-color: white;}#sk-container-id-2 div.sk-parallel-item:first-child::after {align-self: flex-end;width: 50%;}#sk-container-id-2 div.sk-parallel-item:last-child::after {align-self: flex-start;width: 50%;}#sk-container-id-2 div.sk-parallel-item:only-child::after {width: 0;}#sk-container-id-2 div.sk-dashed-wrapped {border: 1px dashed gray;margin: 0 0.4em 0.5em 0.4em;box-sizing: border-box;padding-bottom: 0.4em;background-color: white;}#sk-container-id-2 div.sk-label label {font-family: monospace;font-weight: bold;display: inline-block;line-height: 1.2em;}#sk-container-id-2 div.sk-label-container {text-align: center;}#sk-container-id-2 div.sk-container {/* jupyter's `normalize.less` sets `[hidden] { display: none; }` but bootstrap.min.css set `[hidden] { display: none !important; }` so we also need the `!important` here to be able to override the default hidden behavior on the sphinx rendered scikit-learn.org. See: https://github.com/scikit-learn/scikit-learn/issues/21755 */display: inline-block !important;position: relative;}#sk-container-id-2 div.sk-text-repr-fallback {display: none;}</style><div id=\"sk-container-id-2\" class=\"sk-top-container\"><div class=\"sk-text-repr-fallback\"><pre>Pipeline(steps=[(&#x27;columntransformer&#x27;,\n",
              "                 ColumnTransformer(remainder=&#x27;passthrough&#x27;,\n",
              "                                   transformers=[(&#x27;onehotencoder&#x27;,\n",
              "                                                  OneHotEncoder(categories=[array([&#x27;amc ambassador brougham&#x27;, &#x27;amc ambassador dpl&#x27;,\n",
              "       &#x27;amc ambassador sst&#x27;, &#x27;amc concord&#x27;, &#x27;amc concord d/l&#x27;,\n",
              "       &#x27;amc concord dl 6&#x27;, &#x27;amc gremlin&#x27;, &#x27;amc hornet&#x27;,\n",
              "       &#x27;amc hornet sportabout (sw)&#x27;, &#x27;amc matador&#x27;, &#x27;amc matador (sw)&#x27;,\n",
              "       &#x27;amc pacer&#x27;, &#x27;amc pace...\n",
              "       &#x27;volkswagen rabbit&#x27;, &#x27;volkswagen rabbit custom&#x27;,\n",
              "       &#x27;volkswagen rabbit custom diesel&#x27;, &#x27;volkswagen rabbit l&#x27;,\n",
              "       &#x27;volkswagen scirocco&#x27;, &#x27;volkswagen super beetle&#x27;,\n",
              "       &#x27;volkswagen type 3&#x27;, &#x27;volvo 144ea&#x27;, &#x27;volvo 145e (sw)&#x27;,\n",
              "       &#x27;volvo 244dl&#x27;, &#x27;volvo 245&#x27;, &#x27;volvo 264gl&#x27;, &#x27;volvo diesel&#x27;,\n",
              "       &#x27;vw dasher (diesel)&#x27;, &#x27;vw pickup&#x27;, &#x27;vw rabbit&#x27;,\n",
              "       &#x27;vw rabbit c (diesel)&#x27;, &#x27;vw rabbit custom&#x27;], dtype=object)]),\n",
              "                                                  [&#x27;car_name&#x27;])])),\n",
              "                (&#x27;linearregression&#x27;, LinearRegression())])</pre><b>In a Jupyter environment, please rerun this cell to show the HTML representation or trust the notebook. <br />On GitHub, the HTML representation is unable to render, please try loading this page with nbviewer.org.</b></div><div class=\"sk-container\" hidden><div class=\"sk-item sk-dashed-wrapped\"><div class=\"sk-label-container\"><div class=\"sk-label sk-toggleable\"><input class=\"sk-toggleable__control sk-hidden--visually\" id=\"sk-estimator-id-2\" type=\"checkbox\" ><label for=\"sk-estimator-id-2\" class=\"sk-toggleable__label sk-toggleable__label-arrow\">Pipeline</label><div class=\"sk-toggleable__content\"><pre>Pipeline(steps=[(&#x27;columntransformer&#x27;,\n",
              "                 ColumnTransformer(remainder=&#x27;passthrough&#x27;,\n",
              "                                   transformers=[(&#x27;onehotencoder&#x27;,\n",
              "                                                  OneHotEncoder(categories=[array([&#x27;amc ambassador brougham&#x27;, &#x27;amc ambassador dpl&#x27;,\n",
              "       &#x27;amc ambassador sst&#x27;, &#x27;amc concord&#x27;, &#x27;amc concord d/l&#x27;,\n",
              "       &#x27;amc concord dl 6&#x27;, &#x27;amc gremlin&#x27;, &#x27;amc hornet&#x27;,\n",
              "       &#x27;amc hornet sportabout (sw)&#x27;, &#x27;amc matador&#x27;, &#x27;amc matador (sw)&#x27;,\n",
              "       &#x27;amc pacer&#x27;, &#x27;amc pace...\n",
              "       &#x27;volkswagen rabbit&#x27;, &#x27;volkswagen rabbit custom&#x27;,\n",
              "       &#x27;volkswagen rabbit custom diesel&#x27;, &#x27;volkswagen rabbit l&#x27;,\n",
              "       &#x27;volkswagen scirocco&#x27;, &#x27;volkswagen super beetle&#x27;,\n",
              "       &#x27;volkswagen type 3&#x27;, &#x27;volvo 144ea&#x27;, &#x27;volvo 145e (sw)&#x27;,\n",
              "       &#x27;volvo 244dl&#x27;, &#x27;volvo 245&#x27;, &#x27;volvo 264gl&#x27;, &#x27;volvo diesel&#x27;,\n",
              "       &#x27;vw dasher (diesel)&#x27;, &#x27;vw pickup&#x27;, &#x27;vw rabbit&#x27;,\n",
              "       &#x27;vw rabbit c (diesel)&#x27;, &#x27;vw rabbit custom&#x27;], dtype=object)]),\n",
              "                                                  [&#x27;car_name&#x27;])])),\n",
              "                (&#x27;linearregression&#x27;, LinearRegression())])</pre></div></div></div><div class=\"sk-serial\"><div class=\"sk-item sk-dashed-wrapped\"><div class=\"sk-label-container\"><div class=\"sk-label sk-toggleable\"><input class=\"sk-toggleable__control sk-hidden--visually\" id=\"sk-estimator-id-3\" type=\"checkbox\" ><label for=\"sk-estimator-id-3\" class=\"sk-toggleable__label sk-toggleable__label-arrow\">columntransformer: ColumnTransformer</label><div class=\"sk-toggleable__content\"><pre>ColumnTransformer(remainder=&#x27;passthrough&#x27;,\n",
              "                  transformers=[(&#x27;onehotencoder&#x27;,\n",
              "                                 OneHotEncoder(categories=[array([&#x27;amc ambassador brougham&#x27;, &#x27;amc ambassador dpl&#x27;,\n",
              "       &#x27;amc ambassador sst&#x27;, &#x27;amc concord&#x27;, &#x27;amc concord d/l&#x27;,\n",
              "       &#x27;amc concord dl 6&#x27;, &#x27;amc gremlin&#x27;, &#x27;amc hornet&#x27;,\n",
              "       &#x27;amc hornet sportabout (sw)&#x27;, &#x27;amc matador&#x27;, &#x27;amc matador (sw)&#x27;,\n",
              "       &#x27;amc pacer&#x27;, &#x27;amc pacer d/l&#x27;, &#x27;amc rebel sst&#x27;, &#x27;amc spirit dl&#x27;,\n",
              "       &#x27;au...\n",
              "       &#x27;volkswagen dasher&#x27;, &#x27;volkswagen jetta&#x27;, &#x27;volkswagen model 111&#x27;,\n",
              "       &#x27;volkswagen rabbit&#x27;, &#x27;volkswagen rabbit custom&#x27;,\n",
              "       &#x27;volkswagen rabbit custom diesel&#x27;, &#x27;volkswagen rabbit l&#x27;,\n",
              "       &#x27;volkswagen scirocco&#x27;, &#x27;volkswagen super beetle&#x27;,\n",
              "       &#x27;volkswagen type 3&#x27;, &#x27;volvo 144ea&#x27;, &#x27;volvo 145e (sw)&#x27;,\n",
              "       &#x27;volvo 244dl&#x27;, &#x27;volvo 245&#x27;, &#x27;volvo 264gl&#x27;, &#x27;volvo diesel&#x27;,\n",
              "       &#x27;vw dasher (diesel)&#x27;, &#x27;vw pickup&#x27;, &#x27;vw rabbit&#x27;,\n",
              "       &#x27;vw rabbit c (diesel)&#x27;, &#x27;vw rabbit custom&#x27;], dtype=object)]),\n",
              "                                 [&#x27;car_name&#x27;])])</pre></div></div></div><div class=\"sk-parallel\"><div class=\"sk-parallel-item\"><div class=\"sk-item\"><div class=\"sk-label-container\"><div class=\"sk-label sk-toggleable\"><input class=\"sk-toggleable__control sk-hidden--visually\" id=\"sk-estimator-id-4\" type=\"checkbox\" ><label for=\"sk-estimator-id-4\" class=\"sk-toggleable__label sk-toggleable__label-arrow\">onehotencoder</label><div class=\"sk-toggleable__content\"><pre>[&#x27;car_name&#x27;]</pre></div></div></div><div class=\"sk-serial\"><div class=\"sk-item\"><div class=\"sk-estimator sk-toggleable\"><input class=\"sk-toggleable__control sk-hidden--visually\" id=\"sk-estimator-id-5\" type=\"checkbox\" ><label for=\"sk-estimator-id-5\" class=\"sk-toggleable__label sk-toggleable__label-arrow\">OneHotEncoder</label><div class=\"sk-toggleable__content\"><pre>OneHotEncoder(categories=[array([&#x27;amc ambassador brougham&#x27;, &#x27;amc ambassador dpl&#x27;,\n",
              "       &#x27;amc ambassador sst&#x27;, &#x27;amc concord&#x27;, &#x27;amc concord d/l&#x27;,\n",
              "       &#x27;amc concord dl 6&#x27;, &#x27;amc gremlin&#x27;, &#x27;amc hornet&#x27;,\n",
              "       &#x27;amc hornet sportabout (sw)&#x27;, &#x27;amc matador&#x27;, &#x27;amc matador (sw)&#x27;,\n",
              "       &#x27;amc pacer&#x27;, &#x27;amc pacer d/l&#x27;, &#x27;amc rebel sst&#x27;, &#x27;amc spirit dl&#x27;,\n",
              "       &#x27;audi 100 ls&#x27;, &#x27;audi 100ls&#x27;, &#x27;audi 4000&#x27;, &#x27;audi 5000&#x27;,\n",
              "       &#x27;audi 5000s (diesel)&#x27;, &#x27;audi fox&#x27;,...\n",
              "       &#x27;volkswagen dasher&#x27;, &#x27;volkswagen jetta&#x27;, &#x27;volkswagen model 111&#x27;,\n",
              "       &#x27;volkswagen rabbit&#x27;, &#x27;volkswagen rabbit custom&#x27;,\n",
              "       &#x27;volkswagen rabbit custom diesel&#x27;, &#x27;volkswagen rabbit l&#x27;,\n",
              "       &#x27;volkswagen scirocco&#x27;, &#x27;volkswagen super beetle&#x27;,\n",
              "       &#x27;volkswagen type 3&#x27;, &#x27;volvo 144ea&#x27;, &#x27;volvo 145e (sw)&#x27;,\n",
              "       &#x27;volvo 244dl&#x27;, &#x27;volvo 245&#x27;, &#x27;volvo 264gl&#x27;, &#x27;volvo diesel&#x27;,\n",
              "       &#x27;vw dasher (diesel)&#x27;, &#x27;vw pickup&#x27;, &#x27;vw rabbit&#x27;,\n",
              "       &#x27;vw rabbit c (diesel)&#x27;, &#x27;vw rabbit custom&#x27;], dtype=object)])</pre></div></div></div></div></div></div><div class=\"sk-parallel-item\"><div class=\"sk-item\"><div class=\"sk-label-container\"><div class=\"sk-label sk-toggleable\"><input class=\"sk-toggleable__control sk-hidden--visually\" id=\"sk-estimator-id-6\" type=\"checkbox\" ><label for=\"sk-estimator-id-6\" class=\"sk-toggleable__label sk-toggleable__label-arrow\">remainder</label><div class=\"sk-toggleable__content\"><pre>[&#x27;cylinders&#x27;, &#x27;displacement&#x27;, &#x27;horsepower&#x27;, &#x27;weight&#x27;, &#x27;acceleration&#x27;, &#x27;model_year&#x27;, &#x27;origin&#x27;]</pre></div></div></div><div class=\"sk-serial\"><div class=\"sk-item\"><div class=\"sk-estimator sk-toggleable\"><input class=\"sk-toggleable__control sk-hidden--visually\" id=\"sk-estimator-id-7\" type=\"checkbox\" ><label for=\"sk-estimator-id-7\" class=\"sk-toggleable__label sk-toggleable__label-arrow\">passthrough</label><div class=\"sk-toggleable__content\"><pre>passthrough</pre></div></div></div></div></div></div></div></div><div class=\"sk-item\"><div class=\"sk-estimator sk-toggleable\"><input class=\"sk-toggleable__control sk-hidden--visually\" id=\"sk-estimator-id-8\" type=\"checkbox\" ><label for=\"sk-estimator-id-8\" class=\"sk-toggleable__label sk-toggleable__label-arrow\">LinearRegression</label><div class=\"sk-toggleable__content\"><pre>LinearRegression()</pre></div></div></div></div></div></div></div>"
            ]
          },
          "metadata": {},
          "execution_count": 27
        }
      ]
    },
    {
      "cell_type": "code",
      "source": [
        "ypred = pipe.predict(Xtest)#here we don't need to ohe data present in Xtest dataset because pipe is doing this all for us "
      ],
      "metadata": {
        "id": "4VPqZDbSqgtw"
      },
      "execution_count": 28,
      "outputs": []
    },
    {
      "cell_type": "code",
      "source": [
        "r2_score(ytest, ypred)"
      ],
      "metadata": {
        "colab": {
          "base_uri": "https://localhost:8080/"
        },
        "id": "dWgmuqItqjol",
        "outputId": "2d3492f2-90f6-4d26-bf14-5c3eda9b48f6"
      },
      "execution_count": 29,
      "outputs": [
        {
          "output_type": "execute_result",
          "data": {
            "text/plain": [
              "0.7939157927096049"
            ]
          },
          "metadata": {},
          "execution_count": 29
        }
      ]
    },
    {
      "cell_type": "code",
      "source": [
        "for i in range(10):\n",
        "    Xtrain, Xtest, ytrain, ytest = train_test_split(X, y, test_size=0.2, random_state=i)\n",
        "    lr = linear_model.LinearRegression()\n",
        "    pipe = make_pipeline(column_trans, lr)\n",
        "    pipe.fit(Xtrain, ytrain)\n",
        "    ypred = pipe.predict(Xtest)\n",
        "    print(r2_score(ytest, ypred), i)\n",
        "\n",
        "#this code will give me value of r2_score while applying random_state between a range of (0-9)    \n"
      ],
      "metadata": {
        "colab": {
          "base_uri": "https://localhost:8080/"
        },
        "id": "jFp9TwVEu7oX",
        "outputId": "a60bf6d0-15d4-4961-bf3e-a1ba57a0f482"
      },
      "execution_count": 30,
      "outputs": [
        {
          "output_type": "stream",
          "name": "stdout",
          "text": [
            "0.8355833440179626 0\n",
            "0.8110772007515692 1\n",
            "0.7422069902414785 2\n",
            "0.75827359020337 3\n",
            "0.7571983894279911 4\n",
            "0.7281007523942218 5\n",
            "0.814735776132284 6\n",
            "0.7729300381915926 7\n",
            "0.7011559183612988 8\n",
            "0.8245899798810545 9\n"
          ]
        }
      ]
    },
    {
      "cell_type": "code",
      "source": [
        "#(1)\n",
        "scores=[]#empty list of scores which will give us the number of random state having higher r2_score(random_state=0 to 999)\n",
        "for i in range(1000):\n",
        "    Xtrain, Xtest, ytrain, ytest = train_test_split(X, y, test_size=0.2, random_state=i)\n",
        "    lr = linear_model.LinearRegression()\n",
        "    pipe = make_pipeline(column_trans, lr)\n",
        "    pipe.fit(Xtrain, ytrain)\n",
        "    ypred = pipe.predict(Xtest)\n",
        "    scores.append(r2_score(ytest, ypred))"
      ],
      "metadata": {
        "id": "z0zQdKoOvy6s"
      },
      "execution_count": 31,
      "outputs": []
    },
    {
      "cell_type": "code",
      "source": [
        "#(2)\n",
        "np.argmax(scores)#at 204th random state we are having highest r2_score"
      ],
      "metadata": {
        "colab": {
          "base_uri": "https://localhost:8080/"
        },
        "id": "1N9d9PA7w0Z7",
        "outputId": "8475bf2d-ec11-488f-c6ee-99233b94f522"
      },
      "execution_count": 32,
      "outputs": [
        {
          "output_type": "execute_result",
          "data": {
            "text/plain": [
              "204"
            ]
          },
          "metadata": {},
          "execution_count": 32
        }
      ]
    },
    {
      "cell_type": "code",
      "source": [
        "#(3)\n",
        "scores[np.argmax(scores)]#to check r2_score at 204th random state"
      ],
      "metadata": {
        "colab": {
          "base_uri": "https://localhost:8080/"
        },
        "id": "Ib4SM4FTw4dI",
        "outputId": "9cabd7bb-feb8-4874-ab3d-51523417d459"
      },
      "execution_count": 33,
      "outputs": [
        {
          "output_type": "execute_result",
          "data": {
            "text/plain": [
              "0.8765445751614004"
            ]
          },
          "metadata": {},
          "execution_count": 33
        }
      ]
    },
    {
      "cell_type": "code",
      "source": [
        "#Instead of using steps (1, 2, 3), we can directly use given below code:\n",
        "\n",
        "Xtrain, Xtest, ytrain, ytest = train_test_split(X, y, test_size=0.2, random_state=np.argmax(scores))\n",
        "lr = linear_model.LinearRegression()\n",
        "pipe = make_pipeline(column_trans, lr)\n",
        "pipe.fit(Xtrain, ytrain)\n",
        "ypred = pipe.predict(Xtest)\n",
        "r2_score(ytest, ypred)"
      ],
      "metadata": {
        "colab": {
          "base_uri": "https://localhost:8080/"
        },
        "id": "kV2UroLzw4fi",
        "outputId": "220430b8-7bcc-466b-e1b1-8fd2770e6cad"
      },
      "execution_count": 34,
      "outputs": [
        {
          "output_type": "execute_result",
          "data": {
            "text/plain": [
              "0.8765445751614004"
            ]
          },
          "metadata": {},
          "execution_count": 34
        }
      ]
    },
    {
      "cell_type": "code",
      "source": [
        "#Predicting using example\n",
        "\n",
        "pipe.predict(pd.DataFrame([[8, 307, 130, 3504, 12, 70, 1, 'chevrolet chevelle malibu']], columns = ['cylinders', 'displacement', 'horsepower', 'weight', 'acceleration', 'model_year', 'origin', 'car_name']))          "
      ],
      "metadata": {
        "colab": {
          "base_uri": "https://localhost:8080/"
        },
        "id": "tCgl5aWLzrWp",
        "outputId": "41511b4a-bc68-4ca1-ac81-9a100b1e7771"
      },
      "execution_count": 35,
      "outputs": [
        {
          "output_type": "execute_result",
          "data": {
            "text/plain": [
              "array([17.95616934])"
            ]
          },
          "metadata": {},
          "execution_count": 35
        }
      ]
    },
    {
      "cell_type": "markdown",
      "source": [
        "###Step_4.1 : Dump pipeline using pickle"
      ],
      "metadata": {
        "id": "L-SS3btVzG7N"
      }
    },
    {
      "cell_type": "code",
      "source": [
        "import pickle"
      ],
      "metadata": {
        "id": "zRYwlhOxw4jF"
      },
      "execution_count": 36,
      "outputs": []
    },
    {
      "cell_type": "code",
      "source": [
        "pickle.dump(pipe, open('LinearregressionModel.pkl', 'wb'))"
      ],
      "metadata": {
        "id": "ImtnJz5-zT2r"
      },
      "execution_count": 37,
      "outputs": []
    }
  ]
}